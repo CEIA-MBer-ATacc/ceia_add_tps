{
 "cells": [
  {
   "cell_type": "code",
   "execution_count": 1,
   "id": "4b78e516",
   "metadata": {},
   "outputs": [],
   "source": [
    "import pandas as pd\n",
    "# Mostrar todas las columnas sin límite\n",
    "pd.set_option('display.max_columns', None)"
   ]
  },
  {
   "cell_type": "code",
   "execution_count": 2,
   "id": "e729f600",
   "metadata": {},
   "outputs": [
    {
     "data": {
      "text/html": [
       "<div>\n",
       "<style scoped>\n",
       "    .dataframe tbody tr th:only-of-type {\n",
       "        vertical-align: middle;\n",
       "    }\n",
       "\n",
       "    .dataframe tbody tr th {\n",
       "        vertical-align: top;\n",
       "    }\n",
       "\n",
       "    .dataframe thead th {\n",
       "        text-align: right;\n",
       "    }\n",
       "</style>\n",
       "<table border=\"1\" class=\"dataframe\">\n",
       "  <thead>\n",
       "    <tr style=\"text-align: right;\">\n",
       "      <th></th>\n",
       "      <th>id_comercio</th>\n",
       "      <th>id_bandera</th>\n",
       "      <th>comercio_cuit</th>\n",
       "      <th>comercio_razon_social</th>\n",
       "      <th>comercio_bandera_nombre</th>\n",
       "      <th>comercio_bandera_url</th>\n",
       "      <th>comercio_ultima_actualizacion</th>\n",
       "      <th>comercio_version_sepa</th>\n",
       "    </tr>\n",
       "  </thead>\n",
       "  <tbody>\n",
       "    <tr>\n",
       "      <th>0</th>\n",
       "      <td>10</td>\n",
       "      <td>3.0</td>\n",
       "      <td>3.068731e+10</td>\n",
       "      <td>INC S.A.</td>\n",
       "      <td>Express</td>\n",
       "      <td>www.carrefour.com.ar</td>\n",
       "      <td>2025-05-02T04:30:04-03:00</td>\n",
       "      <td>1.0</td>\n",
       "    </tr>\n",
       "    <tr>\n",
       "      <th>1</th>\n",
       "      <td>10</td>\n",
       "      <td>1.0</td>\n",
       "      <td>3.068731e+10</td>\n",
       "      <td>INC S.A.</td>\n",
       "      <td>Hipermercado Carrefour</td>\n",
       "      <td>www.carrefour.com.ar</td>\n",
       "      <td>2025-05-02T04:30:04-03:00</td>\n",
       "      <td>1.0</td>\n",
       "    </tr>\n",
       "    <tr>\n",
       "      <th>2</th>\n",
       "      <td>10</td>\n",
       "      <td>2.0</td>\n",
       "      <td>3.068731e+10</td>\n",
       "      <td>INC S.A.</td>\n",
       "      <td>Market</td>\n",
       "      <td>www.carrefour.com.ar</td>\n",
       "      <td>2025-05-02T04:30:04-03:00</td>\n",
       "      <td>1.0</td>\n",
       "    </tr>\n",
       "    <tr>\n",
       "      <th>3</th>\n",
       "      <td>Ultima actualización: 2025-05-02T04:30:04-03:00</td>\n",
       "      <td>NaN</td>\n",
       "      <td>NaN</td>\n",
       "      <td>NaN</td>\n",
       "      <td>NaN</td>\n",
       "      <td>NaN</td>\n",
       "      <td>NaN</td>\n",
       "      <td>NaN</td>\n",
       "    </tr>\n",
       "  </tbody>\n",
       "</table>\n",
       "</div>"
      ],
      "text/plain": [
       "                                       id_comercio  id_bandera  comercio_cuit  \\\n",
       "0                                               10         3.0   3.068731e+10   \n",
       "1                                               10         1.0   3.068731e+10   \n",
       "2                                               10         2.0   3.068731e+10   \n",
       "3  Ultima actualización: 2025-05-02T04:30:04-03:00         NaN            NaN   \n",
       "\n",
       "  comercio_razon_social comercio_bandera_nombre  comercio_bandera_url  \\\n",
       "0              INC S.A.                 Express  www.carrefour.com.ar   \n",
       "1              INC S.A.  Hipermercado Carrefour  www.carrefour.com.ar   \n",
       "2              INC S.A.                  Market  www.carrefour.com.ar   \n",
       "3                   NaN                     NaN                   NaN   \n",
       "\n",
       "  comercio_ultima_actualizacion  comercio_version_sepa  \n",
       "0     2025-05-02T04:30:04-03:00                    1.0  \n",
       "1     2025-05-02T04:30:04-03:00                    1.0  \n",
       "2     2025-05-02T04:30:04-03:00                    1.0  \n",
       "3                           NaN                    NaN  "
      ]
     },
     "execution_count": 2,
     "metadata": {},
     "output_type": "execute_result"
    }
   ],
   "source": [
    "# Leer el archivo CSV\n",
    "comercio_df = pd.read_csv('comercio.csv', sep='|')\n",
    "\n",
    "comercio_df.head()"
   ]
  },
  {
   "cell_type": "markdown",
   "id": "aa233312",
   "metadata": {},
   "source": [
    "Analizamos los tipos de datos de las columnas."
   ]
  },
  {
   "cell_type": "code",
   "execution_count": 3,
   "id": "f9287cce",
   "metadata": {},
   "outputs": [
    {
     "data": {
      "text/plain": [
       "id_comercio                       object\n",
       "id_bandera                       float64\n",
       "comercio_cuit                    float64\n",
       "comercio_razon_social             object\n",
       "comercio_bandera_nombre           object\n",
       "comercio_bandera_url              object\n",
       "comercio_ultima_actualizacion     object\n",
       "comercio_version_sepa            float64\n",
       "dtype: object"
      ]
     },
     "execution_count": 3,
     "metadata": {},
     "output_type": "execute_result"
    }
   ],
   "source": [
    "comercio_df.dtypes"
   ]
  },
  {
   "cell_type": "markdown",
   "id": "7d4ddc7e",
   "metadata": {},
   "source": [
    "Notamos que el último registro de cada csv es irrelevante."
   ]
  },
  {
   "cell_type": "code",
   "execution_count": 4,
   "id": "1d161b95",
   "metadata": {},
   "outputs": [],
   "source": [
    "comercio_df = comercio_df.drop(comercio_df.index[-1])"
   ]
  },
  {
   "cell_type": "markdown",
   "id": "b66f5781",
   "metadata": {},
   "source": [
    "Análisis de nulos."
   ]
  },
  {
   "cell_type": "code",
   "execution_count": 5,
   "id": "341e0dc4",
   "metadata": {},
   "outputs": [
    {
     "data": {
      "text/plain": [
       "id_comercio                      0\n",
       "id_bandera                       0\n",
       "comercio_cuit                    0\n",
       "comercio_razon_social            0\n",
       "comercio_bandera_nombre          0\n",
       "comercio_bandera_url             0\n",
       "comercio_ultima_actualizacion    0\n",
       "comercio_version_sepa            0\n",
       "dtype: int64"
      ]
     },
     "execution_count": 5,
     "metadata": {},
     "output_type": "execute_result"
    }
   ],
   "source": [
    "comercio_df.isnull().sum()"
   ]
  },
  {
   "cell_type": "markdown",
   "id": "bc3491db",
   "metadata": {},
   "source": [
    "Nos quedamos solo con las columnas del id_bandera y comercio_bandera_nombre."
   ]
  },
  {
   "cell_type": "code",
   "execution_count": 6,
   "id": "f6ca3564",
   "metadata": {},
   "outputs": [
    {
     "data": {
      "text/html": [
       "<div>\n",
       "<style scoped>\n",
       "    .dataframe tbody tr th:only-of-type {\n",
       "        vertical-align: middle;\n",
       "    }\n",
       "\n",
       "    .dataframe tbody tr th {\n",
       "        vertical-align: top;\n",
       "    }\n",
       "\n",
       "    .dataframe thead th {\n",
       "        text-align: right;\n",
       "    }\n",
       "</style>\n",
       "<table border=\"1\" class=\"dataframe\">\n",
       "  <thead>\n",
       "    <tr style=\"text-align: right;\">\n",
       "      <th></th>\n",
       "      <th>id_bandera</th>\n",
       "      <th>comercio_bandera_nombre</th>\n",
       "    </tr>\n",
       "  </thead>\n",
       "  <tbody>\n",
       "    <tr>\n",
       "      <th>0</th>\n",
       "      <td>3</td>\n",
       "      <td>Express</td>\n",
       "    </tr>\n",
       "    <tr>\n",
       "      <th>1</th>\n",
       "      <td>1</td>\n",
       "      <td>Hipermercado Carrefour</td>\n",
       "    </tr>\n",
       "    <tr>\n",
       "      <th>2</th>\n",
       "      <td>2</td>\n",
       "      <td>Market</td>\n",
       "    </tr>\n",
       "  </tbody>\n",
       "</table>\n",
       "</div>"
      ],
      "text/plain": [
       "  id_bandera comercio_bandera_nombre\n",
       "0          3                 Express\n",
       "1          1  Hipermercado Carrefour\n",
       "2          2                  Market"
      ]
     },
     "execution_count": 6,
     "metadata": {},
     "output_type": "execute_result"
    }
   ],
   "source": [
    "comercio_df = comercio_df[[\"id_bandera\", \"comercio_bandera_nombre\"]]\n",
    "comercio_df['id_bandera'] = comercio_df['id_bandera'].astype(int).astype(str)\n",
    "comercio_df.head()"
   ]
  },
  {
   "cell_type": "markdown",
   "id": "64a2f537",
   "metadata": {},
   "source": [
    "Guardamos el dataset filtrado."
   ]
  },
  {
   "cell_type": "code",
   "execution_count": 7,
   "id": "903267d1",
   "metadata": {},
   "outputs": [],
   "source": [
    "comercio_df.to_excel('comercio_procesado.xlsx', index=False)"
   ]
  }
 ],
 "metadata": {
  "kernelspec": {
   "display_name": ".venv",
   "language": "python",
   "name": "python3"
  },
  "language_info": {
   "codemirror_mode": {
    "name": "ipython",
    "version": 3
   },
   "file_extension": ".py",
   "mimetype": "text/x-python",
   "name": "python",
   "nbconvert_exporter": "python",
   "pygments_lexer": "ipython3",
   "version": "3.11.12"
  }
 },
 "nbformat": 4,
 "nbformat_minor": 5
}
