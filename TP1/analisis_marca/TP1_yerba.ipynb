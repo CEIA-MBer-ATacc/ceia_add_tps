{
 "cells": [
  {
   "cell_type": "code",
   "execution_count": 18,
   "id": "4b78e516",
   "metadata": {},
   "outputs": [],
   "source": [
    "import pandas as pd\n",
    "import matplotlib.pyplot as plt\n",
    "import seaborn as sns\n",
    "# Mostrar todas las columnas sin límite\n",
    "pd.set_option('display.max_columns', None)"
   ]
  },
  {
   "cell_type": "markdown",
   "id": "9609337d",
   "metadata": {},
   "source": [
    "##### **Precios de la Yerba Mate**\n",
    "\n",
    "Iniciamos analizando los precios de los productos de Yerba Mate dado que son un producto de consumo masivo presente en todo el territorio nacional."
   ]
  },
  {
   "cell_type": "code",
   "execution_count": 19,
   "id": "fa437bb8",
   "metadata": {},
   "outputs": [
    {
     "data": {
      "text/html": [
       "<div>\n",
       "<style scoped>\n",
       "    .dataframe tbody tr th:only-of-type {\n",
       "        vertical-align: middle;\n",
       "    }\n",
       "\n",
       "    .dataframe tbody tr th {\n",
       "        vertical-align: top;\n",
       "    }\n",
       "\n",
       "    .dataframe thead th {\n",
       "        text-align: right;\n",
       "    }\n",
       "</style>\n",
       "<table border=\"1\" class=\"dataframe\">\n",
       "  <thead>\n",
       "    <tr style=\"text-align: right;\">\n",
       "      <th></th>\n",
       "      <th>id_sucursal</th>\n",
       "      <th>id_producto</th>\n",
       "      <th>productos_ean</th>\n",
       "      <th>productos_descripcion</th>\n",
       "      <th>productos_cantidad_presentacion</th>\n",
       "      <th>productos_unidad_medida_presentacion</th>\n",
       "      <th>productos_marca</th>\n",
       "      <th>productos_precio_lista</th>\n",
       "      <th>productos_precio_referencia</th>\n",
       "      <th>productos_cantidad_referencia</th>\n",
       "      <th>productos_unidad_medida_referencia</th>\n",
       "      <th>productos_precio_unitario_promo1</th>\n",
       "      <th>productos_leyenda_promo1</th>\n",
       "      <th>productos_precio_unitario_promo2</th>\n",
       "      <th>productos_leyenda_promo2</th>\n",
       "      <th>precio_zscore</th>\n",
       "      <th>id_bandera</th>\n",
       "      <th>sucursales_nombre</th>\n",
       "      <th>sucursales_tipo</th>\n",
       "      <th>sucursales_latitud</th>\n",
       "      <th>sucursales_longitud</th>\n",
       "      <th>sucursales_barrio</th>\n",
       "      <th>sucursales_localidad</th>\n",
       "      <th>sucursales_provincia</th>\n",
       "      <th>comercio_bandera_nombre</th>\n",
       "      <th>localidad_provincia</th>\n",
       "      <th>id_producto_code</th>\n",
       "    </tr>\n",
       "  </thead>\n",
       "  <tbody>\n",
       "    <tr>\n",
       "      <th>158</th>\n",
       "      <td>109</td>\n",
       "      <td>7790710334641</td>\n",
       "      <td>True</td>\n",
       "      <td>YERBA MATE SILUETA NARNJA CBSE CORMILLOT X 500...</td>\n",
       "      <td>1.0</td>\n",
       "      <td>UNI</td>\n",
       "      <td>CBSE</td>\n",
       "      <td>1699.0</td>\n",
       "      <td>3398.0</td>\n",
       "      <td>500.0</td>\n",
       "      <td>GRM</td>\n",
       "      <td>NaN</td>\n",
       "      <td>NaN</td>\n",
       "      <td>NaN</td>\n",
       "      <td>NaN</td>\n",
       "      <td>-1.486396</td>\n",
       "      <td>2</td>\n",
       "      <td>La Plata I</td>\n",
       "      <td>Supermercado</td>\n",
       "      <td>-34.913497</td>\n",
       "      <td>-57.951821</td>\n",
       "      <td>NaN</td>\n",
       "      <td>La Plata</td>\n",
       "      <td>Buenos Aires</td>\n",
       "      <td>Market</td>\n",
       "      <td>La Plata - Buenos Aires</td>\n",
       "      <td>5218</td>\n",
       "    </tr>\n",
       "    <tr>\n",
       "      <th>171</th>\n",
       "      <td>7</td>\n",
       "      <td>7790710334689</td>\n",
       "      <td>True</td>\n",
       "      <td>YERBA MATE HIERBAS CUYANAS CBSE X 500 GRS</td>\n",
       "      <td>1.0</td>\n",
       "      <td>UNI</td>\n",
       "      <td>CBSE</td>\n",
       "      <td>1699.0</td>\n",
       "      <td>3398.0</td>\n",
       "      <td>500.0</td>\n",
       "      <td>GRM</td>\n",
       "      <td>NaN</td>\n",
       "      <td>NaN</td>\n",
       "      <td>NaN</td>\n",
       "      <td>NaN</td>\n",
       "      <td>-0.500690</td>\n",
       "      <td>1</td>\n",
       "      <td>Quilmes</td>\n",
       "      <td>Hipermercado</td>\n",
       "      <td>-34.735911</td>\n",
       "      <td>-58.277988</td>\n",
       "      <td>NaN</td>\n",
       "      <td>Quilmes</td>\n",
       "      <td>Buenos Aires</td>\n",
       "      <td>Hipermercado Carrefour</td>\n",
       "      <td>Quilmes - Buenos Aires</td>\n",
       "      <td>5221</td>\n",
       "    </tr>\n",
       "    <tr>\n",
       "      <th>489</th>\n",
       "      <td>134</td>\n",
       "      <td>7790387014624</td>\n",
       "      <td>True</td>\n",
       "      <td>YERBA MATE SUAVE ORIG CONTROL UNION X 500GRS</td>\n",
       "      <td>1.0</td>\n",
       "      <td>UNI</td>\n",
       "      <td>UNION</td>\n",
       "      <td>2500.0</td>\n",
       "      <td>5000.0</td>\n",
       "      <td>500.0</td>\n",
       "      <td>GRM</td>\n",
       "      <td>NaN</td>\n",
       "      <td>NaN</td>\n",
       "      <td>NaN</td>\n",
       "      <td>NaN</td>\n",
       "      <td>-0.264211</td>\n",
       "      <td>2</td>\n",
       "      <td>Tandil II</td>\n",
       "      <td>Supermercado</td>\n",
       "      <td>-37.326474</td>\n",
       "      <td>-59.135087</td>\n",
       "      <td>NaN</td>\n",
       "      <td>Tandil</td>\n",
       "      <td>Buenos Aires</td>\n",
       "      <td>Market</td>\n",
       "      <td>Tandil - Buenos Aires</td>\n",
       "      <td>4383</td>\n",
       "    </tr>\n",
       "    <tr>\n",
       "      <th>512</th>\n",
       "      <td>219</td>\n",
       "      <td>7792710000106</td>\n",
       "      <td>True</td>\n",
       "      <td>YERBA MATE SELECCION ESPECIAL AMANDA X 1 KG</td>\n",
       "      <td>1.0</td>\n",
       "      <td>UNI</td>\n",
       "      <td>AMANDA</td>\n",
       "      <td>4125.0</td>\n",
       "      <td>4125.0</td>\n",
       "      <td>1000.0</td>\n",
       "      <td>GRM</td>\n",
       "      <td>NaN</td>\n",
       "      <td>NaN</td>\n",
       "      <td>NaN</td>\n",
       "      <td>NaN</td>\n",
       "      <td>-0.969752</td>\n",
       "      <td>1</td>\n",
       "      <td>Caballito</td>\n",
       "      <td>Hipermercado</td>\n",
       "      <td>-34.611087</td>\n",
       "      <td>-58.460584</td>\n",
       "      <td>NaN</td>\n",
       "      <td>Ciudad Autónoma de Buenos Aires</td>\n",
       "      <td>CABA</td>\n",
       "      <td>Hipermercado Carrefour</td>\n",
       "      <td>Ciudad Autónoma de Buenos Aires - CABA</td>\n",
       "      <td>8949</td>\n",
       "    </tr>\n",
       "    <tr>\n",
       "      <th>535</th>\n",
       "      <td>56</td>\n",
       "      <td>7790387013504</td>\n",
       "      <td>True</td>\n",
       "      <td>YERBA MATE SIN PALO 4FLEX TARAGUI X 500 GRS</td>\n",
       "      <td>1.0</td>\n",
       "      <td>UNI</td>\n",
       "      <td>TARAGUI</td>\n",
       "      <td>2940.0</td>\n",
       "      <td>5880.0</td>\n",
       "      <td>500.0</td>\n",
       "      <td>GRM</td>\n",
       "      <td>NaN</td>\n",
       "      <td>NaN</td>\n",
       "      <td>NaN</td>\n",
       "      <td>NaN</td>\n",
       "      <td>-0.233345</td>\n",
       "      <td>1</td>\n",
       "      <td>Glew</td>\n",
       "      <td>Hipermercado</td>\n",
       "      <td>-34.883091</td>\n",
       "      <td>-58.388230</td>\n",
       "      <td>NaN</td>\n",
       "      <td>Glew</td>\n",
       "      <td>Buenos Aires</td>\n",
       "      <td>Hipermercado Carrefour</td>\n",
       "      <td>Glew - Buenos Aires</td>\n",
       "      <td>4376</td>\n",
       "    </tr>\n",
       "  </tbody>\n",
       "</table>\n",
       "</div>"
      ],
      "text/plain": [
       "    id_sucursal    id_producto  productos_ean  \\\n",
       "158         109  7790710334641           True   \n",
       "171           7  7790710334689           True   \n",
       "489         134  7790387014624           True   \n",
       "512         219  7792710000106           True   \n",
       "535          56  7790387013504           True   \n",
       "\n",
       "                                 productos_descripcion  \\\n",
       "158  YERBA MATE SILUETA NARNJA CBSE CORMILLOT X 500...   \n",
       "171          YERBA MATE HIERBAS CUYANAS CBSE X 500 GRS   \n",
       "489       YERBA MATE SUAVE ORIG CONTROL UNION X 500GRS   \n",
       "512        YERBA MATE SELECCION ESPECIAL AMANDA X 1 KG   \n",
       "535        YERBA MATE SIN PALO 4FLEX TARAGUI X 500 GRS   \n",
       "\n",
       "     productos_cantidad_presentacion productos_unidad_medida_presentacion  \\\n",
       "158                              1.0                                  UNI   \n",
       "171                              1.0                                  UNI   \n",
       "489                              1.0                                  UNI   \n",
       "512                              1.0                                  UNI   \n",
       "535                              1.0                                  UNI   \n",
       "\n",
       "    productos_marca  productos_precio_lista  productos_precio_referencia  \\\n",
       "158            CBSE                  1699.0                       3398.0   \n",
       "171            CBSE                  1699.0                       3398.0   \n",
       "489           UNION                  2500.0                       5000.0   \n",
       "512          AMANDA                  4125.0                       4125.0   \n",
       "535         TARAGUI                  2940.0                       5880.0   \n",
       "\n",
       "     productos_cantidad_referencia productos_unidad_medida_referencia  \\\n",
       "158                          500.0                                GRM   \n",
       "171                          500.0                                GRM   \n",
       "489                          500.0                                GRM   \n",
       "512                         1000.0                                GRM   \n",
       "535                          500.0                                GRM   \n",
       "\n",
       "     productos_precio_unitario_promo1 productos_leyenda_promo1  \\\n",
       "158                               NaN                      NaN   \n",
       "171                               NaN                      NaN   \n",
       "489                               NaN                      NaN   \n",
       "512                               NaN                      NaN   \n",
       "535                               NaN                      NaN   \n",
       "\n",
       "     productos_precio_unitario_promo2  productos_leyenda_promo2  \\\n",
       "158                               NaN                       NaN   \n",
       "171                               NaN                       NaN   \n",
       "489                               NaN                       NaN   \n",
       "512                               NaN                       NaN   \n",
       "535                               NaN                       NaN   \n",
       "\n",
       "     precio_zscore  id_bandera sucursales_nombre sucursales_tipo  \\\n",
       "158      -1.486396           2        La Plata I    Supermercado   \n",
       "171      -0.500690           1           Quilmes    Hipermercado   \n",
       "489      -0.264211           2         Tandil II    Supermercado   \n",
       "512      -0.969752           1         Caballito    Hipermercado   \n",
       "535      -0.233345           1              Glew    Hipermercado   \n",
       "\n",
       "     sucursales_latitud  sucursales_longitud sucursales_barrio  \\\n",
       "158          -34.913497           -57.951821               NaN   \n",
       "171          -34.735911           -58.277988               NaN   \n",
       "489          -37.326474           -59.135087               NaN   \n",
       "512          -34.611087           -58.460584               NaN   \n",
       "535          -34.883091           -58.388230               NaN   \n",
       "\n",
       "                sucursales_localidad sucursales_provincia  \\\n",
       "158                         La Plata         Buenos Aires   \n",
       "171                          Quilmes         Buenos Aires   \n",
       "489                           Tandil         Buenos Aires   \n",
       "512  Ciudad Autónoma de Buenos Aires                 CABA   \n",
       "535                             Glew         Buenos Aires   \n",
       "\n",
       "    comercio_bandera_nombre                     localidad_provincia  \\\n",
       "158                  Market                 La Plata - Buenos Aires   \n",
       "171  Hipermercado Carrefour                  Quilmes - Buenos Aires   \n",
       "489                  Market                   Tandil - Buenos Aires   \n",
       "512  Hipermercado Carrefour  Ciudad Autónoma de Buenos Aires - CABA   \n",
       "535  Hipermercado Carrefour                     Glew - Buenos Aires   \n",
       "\n",
       "     id_producto_code  \n",
       "158              5218  \n",
       "171              5221  \n",
       "489              4383  \n",
       "512              8949  \n",
       "535              4376  "
      ]
     },
     "metadata": {},
     "output_type": "display_data"
    },
    {
     "name": "stdout",
     "output_type": "stream",
     "text": [
      "<class 'pandas.core.frame.DataFrame'>\n",
      "Index: 10638 entries, 158 to 848987\n",
      "Data columns (total 27 columns):\n",
      " #   Column                                Non-Null Count  Dtype   \n",
      "---  ------                                --------------  -----   \n",
      " 0   id_sucursal                           10638 non-null  category\n",
      " 1   id_producto                           10638 non-null  category\n",
      " 2   productos_ean                         10638 non-null  bool    \n",
      " 3   productos_descripcion                 10638 non-null  object  \n",
      " 4   productos_cantidad_presentacion       10638 non-null  float64 \n",
      " 5   productos_unidad_medida_presentacion  10638 non-null  category\n",
      " 6   productos_marca                       10638 non-null  category\n",
      " 7   productos_precio_lista                10638 non-null  float64 \n",
      " 8   productos_precio_referencia           10638 non-null  float64 \n",
      " 9   productos_cantidad_referencia         10638 non-null  float64 \n",
      " 10  productos_unidad_medida_referencia    10638 non-null  category\n",
      " 11  productos_precio_unitario_promo1      260 non-null    float64 \n",
      " 12  productos_leyenda_promo1              260 non-null    object  \n",
      " 13  productos_precio_unitario_promo2      0 non-null      float64 \n",
      " 14  productos_leyenda_promo2              0 non-null      float64 \n",
      " 15  precio_zscore                         10638 non-null  float64 \n",
      " 16  id_bandera                            10638 non-null  int64   \n",
      " 17  sucursales_nombre                     10638 non-null  object  \n",
      " 18  sucursales_tipo                       10638 non-null  object  \n",
      " 19  sucursales_latitud                    10638 non-null  float64 \n",
      " 20  sucursales_longitud                   10638 non-null  float64 \n",
      " 21  sucursales_barrio                     718 non-null    object  \n",
      " 22  sucursales_localidad                  10638 non-null  object  \n",
      " 23  sucursales_provincia                  10638 non-null  object  \n",
      " 24  comercio_bandera_nombre               10638 non-null  category\n",
      " 25  localidad_provincia                   10638 non-null  object  \n",
      " 26  id_producto_code                      10638 non-null  int16   \n",
      "dtypes: bool(1), category(6), float64(10), int16(1), int64(1), object(8)\n",
      "memory usage: 2.4+ MB\n"
     ]
    },
    {
     "data": {
      "text/plain": [
       "None"
      ]
     },
     "metadata": {},
     "output_type": "display_data"
    }
   ],
   "source": [
    "colores = {\n",
    "    'Express': 'orange',\n",
    "    'Market': 'red',\n",
    "    'Hipermercado Carrefour': 'blue',\n",
    "}\n",
    "productos_df = pd.read_csv('productos_procesado.zip', sep='|')\n",
    "\n",
    "# Al leer el csv las columnas vuelven a ser sus tipos nativos entonces las reconvertimon a categóricas\n",
    "productos_df['id_sucursal'] = productos_df['id_sucursal'].astype('category')\n",
    "productos_df['id_producto'] = productos_df['id_producto'].astype('category')\n",
    "productos_df['productos_unidad_medida_presentacion'] = productos_df['productos_unidad_medida_presentacion'].astype('category')\n",
    "productos_df['productos_marca'] = productos_df['productos_marca'].astype('category')\n",
    "productos_df['productos_unidad_medida_referencia'] = productos_df['productos_unidad_medida_referencia'].astype('category')\n",
    "productos_df['comercio_bandera_nombre'] = productos_df['comercio_bandera_nombre'].astype('category')\n",
    "productos_df['id_producto_code'] = productos_df['id_producto'].cat.codes\n",
    "\n",
    "productos_df = productos_df[productos_df['productos_descripcion'].str.contains('yerba', case=False, na=False)]\n",
    "display(productos_df.head())\n",
    "display(productos_df.info())"
   ]
  },
  {
   "cell_type": "code",
   "execution_count": 20,
   "id": "824e6665",
   "metadata": {},
   "outputs": [
    {
     "data": {
      "text/plain": [
       "126"
      ]
     },
     "execution_count": 20,
     "metadata": {},
     "output_type": "execute_result"
    }
   ],
   "source": [
    "productos_df[\"id_producto\"].nunique()"
   ]
  },
  {
   "cell_type": "code",
   "execution_count": 21,
   "id": "6d6c2471",
   "metadata": {},
   "outputs": [
    {
     "data": {
      "text/plain": [
       "id_producto\n",
       "7790387014624    126\n",
       "7791720024782    126\n",
       "7790387015317    126\n",
       "7791720026335    126\n",
       "7792280005709    126\n",
       "                ... \n",
       "7793704000508     19\n",
       "7730241003647      4\n",
       "7730241003654      2\n",
       "7730241009038      1\n",
       "7730241009113      1\n",
       "Name: count, Length: 126, dtype: int64"
      ]
     },
     "execution_count": 21,
     "metadata": {},
     "output_type": "execute_result"
    }
   ],
   "source": [
    "productos_df[\"id_producto\"].value_counts().loc[lambda x: x > 0]"
   ]
  },
  {
   "cell_type": "markdown",
   "id": "c8908805",
   "metadata": {},
   "source": [
    "De la última celda podemos analizar que hay productos que estan en todos los tipos de comercio y otros que no."
   ]
  },
  {
   "cell_type": "markdown",
   "id": "19ec084d",
   "metadata": {},
   "source": [
    "Para tener un análisis acorde tomamos aquellos productos de bebidas no alcóholicas que están en los tres tipos de comercios."
   ]
  },
  {
   "cell_type": "code",
   "execution_count": 22,
   "id": "e8a8ed91",
   "metadata": {},
   "outputs": [
    {
     "name": "stdout",
     "output_type": "stream",
     "text": [
      "Cantidad de productos que estan en los 3 comercios: 53\n"
     ]
    },
    {
     "name": "stderr",
     "output_type": "stream",
     "text": [
      "/var/folders/gf/xjt2z0l14fn8dy1y22cnhzm40000gn/T/ipykernel_70348/3562760019.py:2: FutureWarning: The default of observed=False is deprecated and will be changed to True in a future version of pandas. Pass observed=False to retain current behavior or observed=True to adopt the future default and silence this warning.\n",
      "  productos_en_todas_sucursales = productos_df.groupby('id_producto')['comercio_bandera_nombre'].nunique()\n"
     ]
    }
   ],
   "source": [
    "# Contar el número de sucursales únicas por producto\n",
    "productos_en_todas_sucursales = productos_df.groupby('id_producto')['comercio_bandera_nombre'].nunique()\n",
    "\n",
    "# Filtrar los productos que están en todas los comercios, que en nuestro caso son 3, expres, hiper, market\n",
    "productos_en_todas_sucursales = productos_en_todas_sucursales[productos_en_todas_sucursales == 3].index\n",
    "\n",
    "# Filtrar el DataFrame original\n",
    "productos_df_en_varias_sucursales = productos_df[productos_df['id_producto'].isin(productos_en_todas_sucursales)]\n",
    "print(f\"Cantidad de productos que estan en los 3 comercios: {productos_df_en_varias_sucursales['id_producto'].nunique()}\")"
   ]
  },
  {
   "cell_type": "markdown",
   "id": "09ab24e4",
   "metadata": {},
   "source": [
    "### **Análisis de Outliers**"
   ]
  },
  {
   "cell_type": "code",
   "execution_count": 23,
   "id": "9686d307",
   "metadata": {},
   "outputs": [
    {
     "data": {
      "image/png": "[encoded data removed]",
      "text/plain": [
       "<Figure size 640x480 with 1 Axes>"
      ]
     },
     "metadata": {},
     "output_type": "display_data"
    }
   ],
   "source": [
    "sns.boxplot(x='comercio_bandera_nombre', y='precio_zscore', hue='comercio_bandera_nombre', data=productos_df_en_varias_sucursales, palette=colores, legend=False)\n",
    "\n",
    "plt.title('Boxplot de precios por Tipo de comercio')\n",
    "plt.xlabel('Tipo de comercio')\n",
    "plt.ylabel('Precio')\n",
    "plt.show()"
   ]
  },
  {
   "cell_type": "code",
   "execution_count": 24,
   "id": "55fda44c",
   "metadata": {},
   "outputs": [
    {
     "name": "stderr",
     "output_type": "stream",
     "text": [
      "/var/folders/gf/xjt2z0l14fn8dy1y22cnhzm40000gn/T/ipykernel_70348/1922502756.py:10: FutureWarning: The default of observed=False is deprecated and will be changed to True in a future version of pandas. Pass observed=False to retain current behavior or observed=True to adopt the future default and silence this warning.\n",
      "  productos_df_en_varias_sucursales = productos_df_en_varias_sucursales.groupby('comercio_bandera_nombre', group_keys=False).apply(remove_outliers_iqr)\n",
      "/var/folders/gf/xjt2z0l14fn8dy1y22cnhzm40000gn/T/ipykernel_70348/1922502756.py:10: DeprecationWarning: DataFrameGroupBy.apply operated on the grouping columns. This behavior is deprecated, and in a future version of pandas the grouping columns will be excluded from the operation. Either pass `include_groups=False` to exclude the groupings or explicitly select the grouping columns after groupby to silence this warning.\n",
      "  productos_df_en_varias_sucursales = productos_df_en_varias_sucursales.groupby('comercio_bandera_nombre', group_keys=False).apply(remove_outliers_iqr)\n"
     ]
    }
   ],
   "source": [
    "def remove_outliers_iqr(group):\n",
    "    Q1 = group['precio_zscore'].quantile(0.25)\n",
    "    Q3 = group['precio_zscore'].quantile(0.75)\n",
    "    IQR = Q3 - Q1\n",
    "    lower = Q1 - 1.5 * IQR\n",
    "    upper = Q3 + 1.5 * IQR\n",
    "    return group[(group['precio_zscore'] >= lower) & (group['precio_zscore'] <= upper)]\n",
    "\n",
    "# Aplica la función por categoría\n",
    "productos_df_en_varias_sucursales = productos_df_en_varias_sucursales.groupby('comercio_bandera_nombre', group_keys=False).apply(remove_outliers_iqr)"
   ]
  },
  {
   "cell_type": "markdown",
   "id": "392e0bb8",
   "metadata": {},
   "source": [
    "Volvemos a filtrar los productos que están en los 3 tipos de comercio ya que al eliminar outliers se pudo producir que algún producto no esté en todos estos tipos."
   ]
  },
  {
   "cell_type": "code",
   "execution_count": 25,
   "id": "c63e2cb3",
   "metadata": {},
   "outputs": [
    {
     "name": "stdout",
     "output_type": "stream",
     "text": [
      "Cantidad de productos que estan en los 3 comercios: 48\n"
     ]
    },
    {
     "name": "stderr",
     "output_type": "stream",
     "text": [
      "/var/folders/gf/xjt2z0l14fn8dy1y22cnhzm40000gn/T/ipykernel_70348/1613971439.py:2: FutureWarning: The default of observed=False is deprecated and will be changed to True in a future version of pandas. Pass observed=False to retain current behavior or observed=True to adopt the future default and silence this warning.\n",
      "  productos_en_todas_sucursales = productos_df_en_varias_sucursales.groupby('id_producto')['comercio_bandera_nombre'].nunique()\n"
     ]
    }
   ],
   "source": [
    "# Contar el número de sucursales únicas por producto\n",
    "productos_en_todas_sucursales = productos_df_en_varias_sucursales.groupby('id_producto')['comercio_bandera_nombre'].nunique()\n",
    "\n",
    "# Filtrar los productos que están en todas los comercios, que en nuestro caso son 3, expres, hiper, market\n",
    "productos_en_todas_sucursales = productos_en_todas_sucursales[productos_en_todas_sucursales == 3].index\n",
    "\n",
    "# Filtrar el DataFrame original\n",
    "productos_df_en_varias_sucursales = productos_df_en_varias_sucursales[productos_df_en_varias_sucursales['id_producto'].isin(productos_en_todas_sucursales)]\n",
    "print(f\"Cantidad de productos que estan en los 3 comercios: {productos_df_en_varias_sucursales['id_producto'].nunique()}\")"
   ]
  },
  {
   "cell_type": "code",
   "execution_count": 26,
   "id": "704ba104",
   "metadata": {},
   "outputs": [
    {
     "data": {
      "image/png": "[encoded data removed]",
      "text/plain": [
       "<Figure size 640x480 with 1 Axes>"
      ]
     },
     "metadata": {},
     "output_type": "display_data"
    }
   ],
   "source": [
    "sns.boxplot(x='comercio_bandera_nombre', y='precio_zscore', hue='comercio_bandera_nombre', data=productos_df_en_varias_sucursales, palette=colores, legend=False)\n",
    "\n",
    "plt.title('Boxplot de precios por Tipo de comercio')\n",
    "plt.xlabel('Tipo de comercio')\n",
    "plt.ylabel('Precio')\n",
    "plt.show()"
   ]
  },
  {
   "cell_type": "code",
   "execution_count": 27,
   "id": "31439c0f",
   "metadata": {},
   "outputs": [
    {
     "data": {
      "text/plain": [
       "productos_marca\n",
       "CACHAMATE            1011\n",
       "CBSE                  912\n",
       "AMANDA                751\n",
       "CARREFOUR             630\n",
       "UNION                 623\n",
       "TARAGUI               586\n",
       "LA TRANQUERA          576\n",
       "CRUZ DE MALTA         570\n",
       "LA MERCED             528\n",
       "NOBLEZA GAUCHA        458\n",
       "VERDEFLOR             424\n",
       "PLAYADITO             370\n",
       "CARREFOUR CLASSIC     340\n",
       "ROSAMONTE             303\n",
       "ROMANCE               295\n",
       "SALUS                 269\n",
       "ARROYO VERDE          266\n",
       "ARREGUI               252\n",
       "MANANITA              244\n",
       "CHAMIGO               227\n",
       "BULNEZ                180\n",
       "DICOMERE              124\n",
       "LA CUMBRECITA         118\n",
       "NATURA                106\n",
       "BUENAS Y SANTAS       105\n",
       "MELTAIM                77\n",
       "CANARIAS               72\n",
       "SALAM                  61\n",
       "CACHAMAI               61\n",
       "SECADERO               60\n",
       "LAS MARIAS             39\n",
       "Name: count, dtype: int64"
      ]
     },
     "execution_count": 27,
     "metadata": {},
     "output_type": "execute_result"
    }
   ],
   "source": [
    "productos_df['productos_marca'].value_counts().loc[lambda x: x > 0]"
   ]
  },
  {
   "cell_type": "code",
   "execution_count": 28,
   "id": "7c173d07",
   "metadata": {},
   "outputs": [
    {
     "name": "stderr",
     "output_type": "stream",
     "text": [
      "/var/folders/gf/xjt2z0l14fn8dy1y22cnhzm40000gn/T/ipykernel_70348/2429043445.py:3: FutureWarning: The default of observed=False is deprecated and will be changed to True in a future version of pandas. Pass observed=False to retain current behavior or observed=True to adopt the future default and silence this warning.\n",
      "  promedios = productos_df_en_varias_sucursales.groupby('productos_marca')['precio_zscore'].mean().sort_values()\n"
     ]
    },
    {
     "data": {
      "image/png": "[encoded data removed]",
      "text/plain": [
       "<Figure size 1000x600 with 1 Axes>"
      ]
     },
     "metadata": {},
     "output_type": "display_data"
    }
   ],
   "source": [
    "productos_df_en_varias_sucursales['productos_marca'] = productos_df_en_varias_sucursales['productos_marca'].cat.remove_unused_categories()\n",
    "\n",
    "promedios = productos_df_en_varias_sucursales.groupby('productos_marca')['precio_zscore'].mean().sort_values()\n",
    "# Hacer el gráfico de barras\n",
    "promedios.plot(kind='barh', figsize=(10, 6), alpha=0.7)\n",
    "plt.xlabel('Promedio del z-score de precio')\n",
    "plt.ylabel('Marca')\n",
    "plt.title('Promedio de precio normalizado por Marca')\n",
    "plt.tight_layout()\n",
    "plt.show()"
   ]
  },
  {
   "cell_type": "markdown",
   "id": "ccb2cff6",
   "metadata": {},
   "source": [
    "Analizando este último gráfico se puede observar que las marcas de Carrefour no se encuentran entre las más baratas."
   ]
  }
 ],
 "metadata": {
  "kernelspec": {
   "display_name": ".venv",
   "language": "python",
   "name": "python3"
  },
  "language_info": {
   "codemirror_mode": {
    "name": "ipython",
    "version": 3
   },
   "file_extension": ".py",
   "mimetype": "text/x-python",
   "name": "python",
   "nbconvert_exporter": "python",
   "pygments_lexer": "ipython3",
   "version": "3.11.12"
  }
 },
 "nbformat": 4,
 "nbformat_minor": 5
}
