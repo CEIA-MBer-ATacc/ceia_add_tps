{
 "cells": [
  {
   "cell_type": "markdown",
   "id": "e264e100",
   "metadata": {},
   "source": [
    "# **Preguntas**"
   ]
  },
  {
   "cell_type": "markdown",
   "id": "00eaecbb",
   "metadata": {},
   "source": [
    "## **¿Cómo influye el tipo de comercio (Hipermercado Carrefour, Market, Express) en los precios de los productos?**\n",
    "- ¿Cuál es el tipo de comercio más caro?\n",
    "- ¿Cuál es el tipo de comercio más barato?"
   ]
  },
  {
   "cell_type": "markdown",
   "id": "44cc28dd",
   "metadata": {},
   "source": [
    "**El EDA se encuentra en el directorio analisis_prod_tipo_comercio**\n",
    "\n",
    "Para analizar si el tipo de comercio influye en el precio, primero se revisó el conjunto de datos de las sucursales para observar cómo era la dispersión de sucursales respecto a las provincias, al tipo de comercio y al tipo de sucursal.\n",
    "\n",
    "Del análisis de la dispersión, notamos que casi todas las sucursales se encontraban en Buenos Aires y CABA. Por ello, consideramos apropiado excluir las sucursales de otras provincias, ya que no contábamos con suficientes registros de esas regiones como para realizar un análisis más amplio.\n",
    "\n",
    "En el mismo análisis, también observamos que no existen todos los tipos de sucursales para cada tipo de comercio. Puntualmente, notamos que el tipo de sucursal “Autoservicio” solo existe en el tipo de comercio “Express”. Dado que las sucursales estaban muy desbalanceadas según el tipo, decidimos filtrar y quedarnos con las sucursales del tipo “Supermercado” e \"Hipermercado\".\n",
    "\n",
    "Antes de aplicar cualquier filtro por tipo de sucursal, tipo de comercio o provincia, procedimos a agrupar nuestra lista de precios por id_producto y calcular el z-score sobre cada grupo, usando la columna productos_precio_referencia. De esa forma, reflejamos cuánto se aleja el precio de cada producto respecto a la media del conjunto muestral.\n",
    "\n",
    "Luego, procedimos a hacer un análisis para tres tipos puntuales de productos, ya que la cantidad total de productos era demasiado grande como para poder interpretarla gráficamente.\n",
    "\n",
    "Nos quedamos con:\n",
    "\n",
    "- Los productos cuya descripción contenía la palabra “yerba”.\n",
    "\n",
    "- Los productos cuya descripción comenzaba con “gaseosa” o “agua”.\n",
    "\n",
    "- Los productos cuya descripción comenzaba con “leche” o “queso”.\n",
    "\n",
    "Hicimos un análisis por separado para cada uno de estos filtros, con el objetivo de verificar si llegábamos a la misma conclusión al analizar diferentes categorías de productos.\n",
    "\n",
    "Por último, para poder sacar una conclusión, calculamos la media del z-score para cada sucursal, con el fin de obtener un dato concreto que nos permitiera hacer comparaciones.\n",
    "\n",
    "De este análisis final, notamos que la media del precio de los productos es más baja en los comercios del tipo “Hipermercado Carrefour” y, por el contrario, más alta en los comercios del tipo “Express”."
   ]
  },
  {
   "cell_type": "markdown",
   "id": "e9c043e9",
   "metadata": {},
   "source": [
    "## **¿Cómo influye el día de la semana en el precio del producto?**\n",
    "- ¿Cuál es el día más caro?\n",
    "- ¿Cuál es el día más barato?\n",
    "\n",
    "**El EDA se encuentra en el directorio analisis_dia_semana**\n",
    "\n",
    "Para analizar cómo influye el día de la semana en los precios de los productos primero realizamos un preproceso de los datasets de cada día. Previamente sabíamos a qué día pertenecía cada dataset ya que en la página de Precios Claros - Base\n",
    "SEPA estaba indicada la fecha y día de la semana en que había sido subido.\n",
    "\n",
    "En el preproceso nos encargamos de filtrar por las sucursales de Buenos Aires y CABA, y de tipo Supermercado e Hipermercado siguiendo el análisis que realizamos para tipo de comercio. Teniendo en cuenta que aunque puede que haya alguna diferencia porque se agregó una sucursal no incide dada la gran concentración de estas en el AMBA. Pero se hace individualmente en cada dataset para matchear correctamente con los productos.\n",
    "\n",
    "Tomando los datasets preprocesados de cada día de la semana, y al igual que el análisis anterior, procedimos a agrupar nuestra lista de precios por id_producto y calcular el z-score sobre cada grupo, usando la columna productos_precio_referencia. De esa forma, reflejamos cuánto se aleja el precio de cada producto respecto a la media del conjunto muestral.\n",
    "\n",
    "Por último, para poder sacar una conclusión, calculamos la media del z-score para cada día de la semana y notamos que la media del precio de los productos es más baja en el día \"lunes\" y, por el contrario, más alta en el día \"domingo\"."
   ]
  },
  {
   "cell_type": "markdown",
   "id": "ce8cfaa6",
   "metadata": {},
   "source": [
    "## **¿Las marcas propias de los supermercados tienen precios más bajos que las marcas líderes?**\n",
    "\n",
    "**El EDA se encuentra en el directorio analisis_marca**\n",
    "\n",
    "Nuestro enfoque para encarar esta pregunta fue similar al del de tipo de comercio:\n",
    "\n",
    "- Se revisó el conjunto de datos de las sucursales para observar cómo era la dispersión de sucursales respecto a las provincias, al tipo de comercio y al tipo de sucursal.\n",
    "\n",
    "- Del análisis de la dispersión, notamos que casi todas las sucursales se encontraban en Buenos Aires y CABA. Por ello, consideramos apropiado excluir las sucursales de otras provincias, ya que no contábamos con suficientes registros de esas regiones como para realizar un análisis más amplio.\n",
    "\n",
    "- Agrupamos nuestra lista de precios por id_producto y calcular el z-score sobre cada grupo, usando la columna productos_precio_referencia. De esa forma, reflejamos cuánto se aleja el precio de cada producto respecto a la media del conjunto muestral.\n",
    "\n",
    "- Procedimos a hacer un análisis para tres tipos puntuales de productos, ya que la cantidad total de productos era demasiado grande como para poder interpretarla gráficamente.\n",
    "\n",
    "    Nos quedamos con:\n",
    "\n",
    "    - Los productos cuya descripción contenía la palabra “yerba”.\n",
    "\n",
    "    - Los productos cuya descripción comenzaba con “gaseosa” o “agua”.\n",
    "\n",
    "    - Los productos cuya descripción comenzaba con “leche” o “queso”.\n",
    "\n",
    "- Hicimos un análisis por separado para cada uno de estos filtros, con el objetivo de verificar si llegábamos a la misma conclusión al analizar diferentes categorías de productos.\n",
    "\n",
    "La conclusión luego de ver el análisis de cada categoría es que no se puede afirmar que las marcas de los supermercados tengan precios más bajos que las marcas líderes. Por ejemplo, para los lácteos la marca CARREFOUR CRISTAL se encontraba entre las más baratas pero para los otros casos (bebidas y yerba) las marcas de Carrefour no se encontraban entre las más baratas."
   ]
  }
 ],
 "metadata": {
  "kernelspec": {
   "display_name": "env",
   "language": "python",
   "name": "python3"
  },
  "language_info": {
   "codemirror_mode": {
    "name": "ipython",
    "version": 3
   },
   "file_extension": ".py",
   "mimetype": "text/x-python",
   "name": "python",
   "nbconvert_exporter": "python",
   "pygments_lexer": "ipython3",
   "version": "3.13.3"
  }
 },
 "nbformat": 4,
 "nbformat_minor": 5
}
