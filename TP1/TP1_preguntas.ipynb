{
 "cells": [
  {
   "cell_type": "markdown",
   "id": "e264e100",
   "metadata": {},
   "source": [
    "## Preguntas:\n",
    "\n",
    "- ¿Influye en algo el tipo de comercio en el precio del producto?\n",
    "    - En caso de que el tipo de comercio influya en el precio ¿ cual es el tipo de comercio mas caro y cual es el tipo de comercio mas barato?\n",
    "\n",
    "- ¿Influye en algo el dia de la semana en el precio del producto?\n",
    "    - En caso de que el dia de la semana influya en el precio ¿ cual es el dia mas caro y cual es el dia mas barato?"
   ]
  },
  {
   "cell_type": "markdown",
   "id": "00eaecbb",
   "metadata": {},
   "source": [
    "- ¿Influye en algo el tipo de comercio en el precio del producto?\n",
    "    - En caso de que el tipo de comercio influya en el precio ¿ cual es el tipo de comercio mas caro y cual es el tipo de comercio mas barato?\n"
   ]
  },
  {
   "cell_type": "markdown",
   "id": "44cc28dd",
   "metadata": {},
   "source": [
    "\n",
    "Para analizar si el tipo de comercio influye en el precio primero se reviso el set de datos de la las sucursales, para ver como era la dispercion de sucursales respecto a las provincias, respecto al tipo de comercio y respecto al tipo de sucursal.\n",
    "\n",
    "antes de aplicar cualquier filtro por el tipo de sucursa o tipo de comercio o provincia, procedimos a agrupar nuestra lista de precios por productos calcular z-score sobre cada grupo de productos, usando la columna productos_precio_referencia, y de esa forma reflejar para cada precio de cada producto, cuanto se aleja dicho precio de la media de todo el conjunto muestral.\n",
    "\n",
    "Del analisis de la dispercion notamos que teniamos casi todas las sucursales en buenos aires y CABA, por lo que nos parecio que correspondia podar las sucursales de otras provincias, ya que no teniamos suficientes registros de esas provincias como para hacer un analisis mas amplio.\n",
    "\n",
    "Del mismo analisis tambien notamos que no hay todos los tipos de sursales para cada tipo de comercio, notando puntualmente que para el tipo de sucursal autoservicio solo existe en tipos de comercio expres, por lo que al estar tan desbalanceadas las sucursales por el tipo de sucucursal decidimos hacer una poda para quedarnos solo con las sucursales que son del tipo supermercado.\n",
    "\n",
    "Luego procedimos a hacer una analisis para 3 tipos de productos puntuales, ya que la cantidad de productos era demaciada como para poder interpretarlo en un grafico.\n",
    "\n",
    "Nos quedamos con los productos cuya descripcion contenian la palabra yerba, los productos cuya descripcion empezara con gaseosa o agua y tambien nos quedamos con los productos cuya descripcion empezara con leche o queso.\n",
    "hicimos un anailsis por separado para cada uno de esos filtros pra ver si llegabamos a la misma conclucion analisasndo diferentes categorias de productos.\n",
    "\n",
    "Por ultimo para poder sacar una conclusion calculamos la media del z-score para cada sucursal y asi tener un dato concreto con el cual comparar.\n",
    "de esto ultimo notamos que el la media del precio de los productos es mas baja en los tipos de comercio hipermercado carrefour y por el contrario la medio del precio de los productos es mas cara en los tipos de comercio expres."
   ]
  },
  {
   "cell_type": "markdown",
   "id": "e9c043e9",
   "metadata": {},
   "source": []
  }
 ],
 "metadata": {
  "kernelspec": {
   "display_name": "env",
   "language": "python",
   "name": "python3"
  },
  "language_info": {
   "codemirror_mode": {
    "name": "ipython",
    "version": 3
   },
   "file_extension": ".py",
   "mimetype": "text/x-python",
   "name": "python",
   "nbconvert_exporter": "python",
   "pygments_lexer": "ipython3",
   "version": "3.13.3"
  }
 },
 "nbformat": 4,
 "nbformat_minor": 5
}
